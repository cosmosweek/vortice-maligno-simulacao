{
 "cells": [
  {
   "cell_type": "markdown",
   "metadata": {},
   "source": [
    "# Simulação do Vórtice Maligno\n",
    "Este notebook executa a simulação da propagação de crenças pseudocientíficas baseada no artigo de Humberto Marambaia Junior."
   ]
  },
  {
   "cell_type": "code",
   "execution_count": null,
   "metadata": {},
   "outputs": [],
   "source": [
    "%pip install networkx pandas matplotlib\n",
    "import networkx as nx\n",
    "import numpy as np\n",
    "import pandas as pd\n",
    "import matplotlib.pyplot as plt"
   ]
  },
  {
   "cell_type": "code",
   "execution_count": null,
   "metadata": {},
   "outputs": [],
   "source": [
    "# Código completo da simulação foi colocado em simulacao_vortice.py\n",
    "%run simulacao_vortice.py"
   ]
  },
  {
   "cell_type": "code",
   "execution_count": null,
   "metadata": {},
   "outputs": [],
   "source": [
    "df = pd.read_csv('dados_resultado.csv')\n",
    "plt.plot(df['Mes'], df['CrencaMedia'])\n",
    "plt.title('Evolução da Crença Pseudocientífica')\n",
    "plt.xlabel('Mês')\n",
    "plt.ylabel('Crença Média')\n",
    "plt.grid(True)\n",
    "plt.show()"
   ]
  }
 ],
 "metadata": {
  "kernelspec": {
   "display_name": "Python 3",
   "language": "python",
   "name": "python3"
  },
  "language_info": {
   "name": "python",
   "version": ""
  }
 },
 "nbformat": 4,
 "nbformat_minor": 5
}